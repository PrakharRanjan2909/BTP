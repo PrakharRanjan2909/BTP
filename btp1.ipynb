{
  "nbformat": 4,
  "nbformat_minor": 0,
  "metadata": {
    "colab": {
      "provenance": [],
      "authorship_tag": "ABX9TyMoSbKv9Z9OaKuLsynu9IZp",
      "include_colab_link": true
    },
    "kernelspec": {
      "name": "python3",
      "display_name": "Python 3"
    },
    "language_info": {
      "name": "python"
    }
  },
  "cells": [
    {
      "cell_type": "markdown",
      "metadata": {
        "id": "view-in-github",
        "colab_type": "text"
      },
      "source": [
        "<a href=\"https://colab.research.google.com/github/PrakharRanjan2909/BTP/blob/main/btp1.ipynb\" target=\"_parent\"><img src=\"https://colab.research.google.com/assets/colab-badge.svg\" alt=\"Open In Colab\"/></a>"
      ]
    },
    {
      "cell_type": "code",
      "execution_count": null,
      "metadata": {
        "id": "_NJiS8xLt7UJ"
      },
      "outputs": [],
      "source": [
        "!git clone https://github.com/PrakharRanjan2909/BTP.git"
      ]
    },
    {
      "cell_type": "code",
      "source": [
        "cd BTP/"
      ],
      "metadata": {
        "id": "iYL-XDFCuPi6"
      },
      "execution_count": null,
      "outputs": []
    },
    {
      "cell_type": "code",
      "source": [
        "!git pull"
      ],
      "metadata": {
        "colab": {
          "base_uri": "https://localhost:8080/"
        },
        "id": "S4xFKiugvdOu",
        "outputId": "653c11dc-ceeb-4b6d-ea0d-45e1192e495a"
      },
      "execution_count": 6,
      "outputs": [
        {
          "output_type": "stream",
          "name": "stdout",
          "text": [
            "remote: Enumerating objects: 13, done.\u001b[K\n",
            "remote: Counting objects:   7% (1/13)\u001b[K\rremote: Counting objects:  15% (2/13)\u001b[K\rremote: Counting objects:  23% (3/13)\u001b[K\rremote: Counting objects:  30% (4/13)\u001b[K\rremote: Counting objects:  38% (5/13)\u001b[K\rremote: Counting objects:  46% (6/13)\u001b[K\rremote: Counting objects:  53% (7/13)\u001b[K\rremote: Counting objects:  61% (8/13)\u001b[K\rremote: Counting objects:  69% (9/13)\u001b[K\rremote: Counting objects:  76% (10/13)\u001b[K\rremote: Counting objects:  84% (11/13)\u001b[K\rremote: Counting objects:  92% (12/13)\u001b[K\rremote: Counting objects: 100% (13/13)\u001b[K\rremote: Counting objects: 100% (13/13), done.\u001b[K\n",
            "remote: Compressing objects:  11% (1/9)\u001b[K\rremote: Compressing objects:  22% (2/9)\u001b[K\rremote: Compressing objects:  33% (3/9)\u001b[K\rremote: Compressing objects:  44% (4/9)\u001b[K\rremote: Compressing objects:  55% (5/9)\u001b[K\rremote: Compressing objects:  66% (6/9)\u001b[K\rremote: Compressing objects:  77% (7/9)\u001b[K\rremote: Compressing objects:  88% (8/9)\u001b[K\rremote: Compressing objects: 100% (9/9)\u001b[K\rremote: Compressing objects: 100% (9/9), done.\u001b[K\n",
            "Unpacking objects:  10% (1/10)\rUnpacking objects:  20% (2/10)\rUnpacking objects:  30% (3/10)\rUnpacking objects:  40% (4/10)\rUnpacking objects:  50% (5/10)\rUnpacking objects:  60% (6/10)\rUnpacking objects:  70% (7/10)\rUnpacking objects:  80% (8/10)\rUnpacking objects:  90% (9/10)\rremote: Total 10 (delta 3), reused 8 (delta 1), pack-reused 0\u001b[K\n",
            "Unpacking objects: 100% (10/10)\rUnpacking objects: 100% (10/10), 359.76 KiB | 3.16 MiB/s, done.\n",
            "From https://github.com/PrakharRanjan2909/BTP\n",
            "   1680a04..aa527d7  main       -> origin/main\n",
            "Updating 1680a04..aa527d7\n",
            "Fast-forward\n",
            " exchange/figure/ha_prediction/binance_ha.png  | Bin \u001b[31m0\u001b[m -> \u001b[32m90172\u001b[m bytes\n",
            " exchange/figure/ha_prediction/coinbase_ha.png | Bin \u001b[31m0\u001b[m -> \u001b[32m61921\u001b[m bytes\n",
            " exchange/figure/ha_prediction/huobi_ha.png    | Bin \u001b[31m0\u001b[m -> \u001b[32m63918\u001b[m bytes\n",
            " exchange/figure/ha_prediction/kraken_ha.png   | Bin \u001b[31m0\u001b[m -> \u001b[32m82755\u001b[m bytes\n",
            " exchange/figure/ha_prediction/kucoin_ha.png   | Bin \u001b[31m0\u001b[m -> \u001b[32m82808\u001b[m bytes\n",
            " 5 files changed, 0 insertions(+), 0 deletions(-)\n",
            " create mode 100644 exchange/figure/ha_prediction/binance_ha.png\n",
            " create mode 100644 exchange/figure/ha_prediction/coinbase_ha.png\n",
            " create mode 100644 exchange/figure/ha_prediction/huobi_ha.png\n",
            " create mode 100644 exchange/figure/ha_prediction/kraken_ha.png\n",
            " create mode 100644 exchange/figure/ha_prediction/kucoin_ha.png\n"
          ]
        }
      ]
    },
    {
      "cell_type": "code",
      "source": [
        "!python baselines.py"
      ],
      "metadata": {
        "colab": {
          "base_uri": "https://localhost:8080/"
        },
        "id": "DE31NR64uVZG",
        "outputId": "70a51e17-5d84-4400-d267-539b3243a1e9"
      },
      "execution_count": 7,
      "outputs": [
        {
          "output_type": "stream",
          "name": "stdout",
          "text": [
            "i = 0\n",
            "binance\n",
            "time_len = 1632\n",
            "train_size = 1305\n",
            "test_size = 327\n",
            "time_len = 1632\n",
            "train_size = 1305\n",
            "test_size = 327\n",
            "327\n",
            "327\n",
            "exchange = binance\n",
            "rmse = 0.10288898156758271\n",
            "mae = 0.06797868682821295\n",
            "mape = 0.4017392980083061\n",
            "r2 = 0.27805656431222503\n",
            "var = -0.4771497856072018\n",
            "\n",
            "findfont: Font family 'Microsoft YaHei' not found.\n",
            "findfont: Font family 'Microsoft YaHei' not found.\n",
            "/content/BTP/baselines.py:217: UserWarning: Glyph 20132 (\\N{CJK UNIFIED IDEOGRAPH-4EA4}) missing from current font.\n",
            "  plt.savefig('./exchange/figure/ha_prediction' + '/' + exchange + '_ha.png')\n",
            "/content/BTP/baselines.py:217: UserWarning: Glyph 26131 (\\N{CJK UNIFIED IDEOGRAPH-6613}) missing from current font.\n",
            "  plt.savefig('./exchange/figure/ha_prediction' + '/' + exchange + '_ha.png')\n",
            "/content/BTP/baselines.py:217: UserWarning: Glyph 37327 (\\N{CJK UNIFIED IDEOGRAPH-91CF}) missing from current font.\n",
            "  plt.savefig('./exchange/figure/ha_prediction' + '/' + exchange + '_ha.png')\n",
            "/content/BTP/baselines.py:217: UserWarning: Glyph 65288 (\\N{FULLWIDTH LEFT PARENTHESIS}) missing from current font.\n",
            "  plt.savefig('./exchange/figure/ha_prediction' + '/' + exchange + '_ha.png')\n",
            "/content/BTP/baselines.py:217: UserWarning: Glyph 32654 (\\N{CJK UNIFIED IDEOGRAPH-7F8E}) missing from current font.\n",
            "  plt.savefig('./exchange/figure/ha_prediction' + '/' + exchange + '_ha.png')\n",
            "/content/BTP/baselines.py:217: UserWarning: Glyph 20803 (\\N{CJK UNIFIED IDEOGRAPH-5143}) missing from current font.\n",
            "  plt.savefig('./exchange/figure/ha_prediction' + '/' + exchange + '_ha.png')\n",
            "/content/BTP/baselines.py:217: UserWarning: Glyph 65289 (\\N{FULLWIDTH RIGHT PARENTHESIS}) missing from current font.\n",
            "  plt.savefig('./exchange/figure/ha_prediction' + '/' + exchange + '_ha.png')\n",
            "findfont: Font family 'Microsoft YaHei' not found.\n",
            "/content/BTP/baselines.py:217: UserWarning: Glyph 26102 (\\N{CJK UNIFIED IDEOGRAPH-65F6}) missing from current font.\n",
            "  plt.savefig('./exchange/figure/ha_prediction' + '/' + exchange + '_ha.png')\n",
            "/content/BTP/baselines.py:217: UserWarning: Glyph 38388 (\\N{CJK UNIFIED IDEOGRAPH-95F4}) missing from current font.\n",
            "  plt.savefig('./exchange/figure/ha_prediction' + '/' + exchange + '_ha.png')\n",
            "findfont: Font family 'Microsoft YaHei' not found.\n",
            "findfont: Font family 'Microsoft YaHei' not found.\n",
            "findfont: Font family 'Microsoft YaHei' not found.\n",
            "findfont: Font family 'Microsoft YaHei' not found.\n",
            "Figure(1000x400)\n",
            "i = 1\n",
            "coinbase\n",
            "time_len = 241\n",
            "train_size = 192\n",
            "test_size = 49\n",
            "time_len = 241\n",
            "train_size = 192\n",
            "test_size = 49\n",
            "49\n",
            "49\n",
            "exchange = coinbase\n",
            "rmse = 0.12143174241663231\n",
            "mae = 0.08423788340980462\n",
            "mape = 0.56983396023611\n",
            "r2 = -0.09365664799561135\n",
            "var = -0.20493467464818638\n",
            "\n",
            "findfont: Font family 'Microsoft YaHei' not found.\n",
            "findfont: Font family 'Microsoft YaHei' not found.\n",
            "/content/BTP/baselines.py:217: UserWarning: Glyph 20132 (\\N{CJK UNIFIED IDEOGRAPH-4EA4}) missing from current font.\n",
            "  plt.savefig('./exchange/figure/ha_prediction' + '/' + exchange + '_ha.png')\n",
            "/content/BTP/baselines.py:217: UserWarning: Glyph 26131 (\\N{CJK UNIFIED IDEOGRAPH-6613}) missing from current font.\n",
            "  plt.savefig('./exchange/figure/ha_prediction' + '/' + exchange + '_ha.png')\n",
            "/content/BTP/baselines.py:217: UserWarning: Glyph 37327 (\\N{CJK UNIFIED IDEOGRAPH-91CF}) missing from current font.\n",
            "  plt.savefig('./exchange/figure/ha_prediction' + '/' + exchange + '_ha.png')\n",
            "/content/BTP/baselines.py:217: UserWarning: Glyph 65288 (\\N{FULLWIDTH LEFT PARENTHESIS}) missing from current font.\n",
            "  plt.savefig('./exchange/figure/ha_prediction' + '/' + exchange + '_ha.png')\n",
            "/content/BTP/baselines.py:217: UserWarning: Glyph 32654 (\\N{CJK UNIFIED IDEOGRAPH-7F8E}) missing from current font.\n",
            "  plt.savefig('./exchange/figure/ha_prediction' + '/' + exchange + '_ha.png')\n",
            "/content/BTP/baselines.py:217: UserWarning: Glyph 20803 (\\N{CJK UNIFIED IDEOGRAPH-5143}) missing from current font.\n",
            "  plt.savefig('./exchange/figure/ha_prediction' + '/' + exchange + '_ha.png')\n",
            "/content/BTP/baselines.py:217: UserWarning: Glyph 65289 (\\N{FULLWIDTH RIGHT PARENTHESIS}) missing from current font.\n",
            "  plt.savefig('./exchange/figure/ha_prediction' + '/' + exchange + '_ha.png')\n",
            "findfont: Font family 'Microsoft YaHei' not found.\n",
            "/content/BTP/baselines.py:217: UserWarning: Glyph 26102 (\\N{CJK UNIFIED IDEOGRAPH-65F6}) missing from current font.\n",
            "  plt.savefig('./exchange/figure/ha_prediction' + '/' + exchange + '_ha.png')\n",
            "/content/BTP/baselines.py:217: UserWarning: Glyph 38388 (\\N{CJK UNIFIED IDEOGRAPH-95F4}) missing from current font.\n",
            "  plt.savefig('./exchange/figure/ha_prediction' + '/' + exchange + '_ha.png')\n",
            "findfont: Font family 'Microsoft YaHei' not found.\n",
            "findfont: Font family 'Microsoft YaHei' not found.\n",
            "findfont: Font family 'Microsoft YaHei' not found.\n",
            "findfont: Font family 'Microsoft YaHei' not found.\n",
            "Figure(1000x400)\n",
            "i = 2\n",
            "huobi\n",
            "time_len = 1576\n",
            "train_size = 1260\n",
            "test_size = 316\n",
            "time_len = 1576\n",
            "train_size = 1260\n",
            "test_size = 316\n",
            "316\n",
            "316\n",
            "exchange = huobi\n",
            "rmse = 0.07153558511148235\n",
            "mae = 0.025301292372056042\n",
            "mape = 0.4214359864759013\n",
            "r2 = 0.08164732345727477\n",
            "var = -0.2776095860771426\n",
            "\n",
            "findfont: Font family 'Microsoft YaHei' not found.\n",
            "findfont: Font family 'Microsoft YaHei' not found.\n",
            "/content/BTP/baselines.py:217: UserWarning: Glyph 20132 (\\N{CJK UNIFIED IDEOGRAPH-4EA4}) missing from current font.\n",
            "  plt.savefig('./exchange/figure/ha_prediction' + '/' + exchange + '_ha.png')\n",
            "/content/BTP/baselines.py:217: UserWarning: Glyph 26131 (\\N{CJK UNIFIED IDEOGRAPH-6613}) missing from current font.\n",
            "  plt.savefig('./exchange/figure/ha_prediction' + '/' + exchange + '_ha.png')\n",
            "/content/BTP/baselines.py:217: UserWarning: Glyph 37327 (\\N{CJK UNIFIED IDEOGRAPH-91CF}) missing from current font.\n",
            "  plt.savefig('./exchange/figure/ha_prediction' + '/' + exchange + '_ha.png')\n",
            "/content/BTP/baselines.py:217: UserWarning: Glyph 65288 (\\N{FULLWIDTH LEFT PARENTHESIS}) missing from current font.\n",
            "  plt.savefig('./exchange/figure/ha_prediction' + '/' + exchange + '_ha.png')\n",
            "/content/BTP/baselines.py:217: UserWarning: Glyph 32654 (\\N{CJK UNIFIED IDEOGRAPH-7F8E}) missing from current font.\n",
            "  plt.savefig('./exchange/figure/ha_prediction' + '/' + exchange + '_ha.png')\n",
            "/content/BTP/baselines.py:217: UserWarning: Glyph 20803 (\\N{CJK UNIFIED IDEOGRAPH-5143}) missing from current font.\n",
            "  plt.savefig('./exchange/figure/ha_prediction' + '/' + exchange + '_ha.png')\n",
            "/content/BTP/baselines.py:217: UserWarning: Glyph 65289 (\\N{FULLWIDTH RIGHT PARENTHESIS}) missing from current font.\n",
            "  plt.savefig('./exchange/figure/ha_prediction' + '/' + exchange + '_ha.png')\n",
            "findfont: Font family 'Microsoft YaHei' not found.\n",
            "/content/BTP/baselines.py:217: UserWarning: Glyph 26102 (\\N{CJK UNIFIED IDEOGRAPH-65F6}) missing from current font.\n",
            "  plt.savefig('./exchange/figure/ha_prediction' + '/' + exchange + '_ha.png')\n",
            "/content/BTP/baselines.py:217: UserWarning: Glyph 38388 (\\N{CJK UNIFIED IDEOGRAPH-95F4}) missing from current font.\n",
            "  plt.savefig('./exchange/figure/ha_prediction' + '/' + exchange + '_ha.png')\n",
            "findfont: Font family 'Microsoft YaHei' not found.\n",
            "findfont: Font family 'Microsoft YaHei' not found.\n",
            "findfont: Font family 'Microsoft YaHei' not found.\n",
            "findfont: Font family 'Microsoft YaHei' not found.\n",
            "Figure(1000x400)\n",
            "i = 3\n",
            "kraken\n",
            "time_len = 2231\n",
            "train_size = 1784\n",
            "test_size = 447\n",
            "time_len = 2231\n",
            "train_size = 1784\n",
            "test_size = 447\n",
            "447\n",
            "447\n",
            "exchange = kraken\n",
            "rmse = 0.10318179366692053\n",
            "mae = 0.06216765561189615\n",
            "mape = 0.46029511959779446\n",
            "r2 = 0.6878725382802158\n",
            "var = -0.8065382312521017\n",
            "\n",
            "findfont: Font family 'Microsoft YaHei' not found.\n",
            "findfont: Font family 'Microsoft YaHei' not found.\n",
            "/content/BTP/baselines.py:217: UserWarning: Glyph 20132 (\\N{CJK UNIFIED IDEOGRAPH-4EA4}) missing from current font.\n",
            "  plt.savefig('./exchange/figure/ha_prediction' + '/' + exchange + '_ha.png')\n",
            "/content/BTP/baselines.py:217: UserWarning: Glyph 26131 (\\N{CJK UNIFIED IDEOGRAPH-6613}) missing from current font.\n",
            "  plt.savefig('./exchange/figure/ha_prediction' + '/' + exchange + '_ha.png')\n",
            "/content/BTP/baselines.py:217: UserWarning: Glyph 37327 (\\N{CJK UNIFIED IDEOGRAPH-91CF}) missing from current font.\n",
            "  plt.savefig('./exchange/figure/ha_prediction' + '/' + exchange + '_ha.png')\n",
            "/content/BTP/baselines.py:217: UserWarning: Glyph 65288 (\\N{FULLWIDTH LEFT PARENTHESIS}) missing from current font.\n",
            "  plt.savefig('./exchange/figure/ha_prediction' + '/' + exchange + '_ha.png')\n",
            "/content/BTP/baselines.py:217: UserWarning: Glyph 32654 (\\N{CJK UNIFIED IDEOGRAPH-7F8E}) missing from current font.\n",
            "  plt.savefig('./exchange/figure/ha_prediction' + '/' + exchange + '_ha.png')\n",
            "/content/BTP/baselines.py:217: UserWarning: Glyph 20803 (\\N{CJK UNIFIED IDEOGRAPH-5143}) missing from current font.\n",
            "  plt.savefig('./exchange/figure/ha_prediction' + '/' + exchange + '_ha.png')\n",
            "/content/BTP/baselines.py:217: UserWarning: Glyph 65289 (\\N{FULLWIDTH RIGHT PARENTHESIS}) missing from current font.\n",
            "  plt.savefig('./exchange/figure/ha_prediction' + '/' + exchange + '_ha.png')\n",
            "findfont: Font family 'Microsoft YaHei' not found.\n",
            "/content/BTP/baselines.py:217: UserWarning: Glyph 26102 (\\N{CJK UNIFIED IDEOGRAPH-65F6}) missing from current font.\n",
            "  plt.savefig('./exchange/figure/ha_prediction' + '/' + exchange + '_ha.png')\n",
            "/content/BTP/baselines.py:217: UserWarning: Glyph 38388 (\\N{CJK UNIFIED IDEOGRAPH-95F4}) missing from current font.\n",
            "  plt.savefig('./exchange/figure/ha_prediction' + '/' + exchange + '_ha.png')\n",
            "findfont: Font family 'Microsoft YaHei' not found.\n",
            "findfont: Font family 'Microsoft YaHei' not found.\n",
            "findfont: Font family 'Microsoft YaHei' not found.\n",
            "findfont: Font family 'Microsoft YaHei' not found.\n",
            "Figure(1000x400)\n",
            "i = 4\n",
            "kucoin\n",
            "time_len = 1559\n",
            "train_size = 1247\n",
            "test_size = 312\n",
            "time_len = 1559\n",
            "train_size = 1247\n",
            "test_size = 312\n",
            "312\n",
            "312\n",
            "exchange = kucoin\n",
            "rmse = 0.08073334067184804\n",
            "mae = 0.048709585267190145\n",
            "mape = 0.3028031189087206\n",
            "r2 = 0.4764912067589989\n",
            "var = -0.5986953844127443\n",
            "\n",
            "findfont: Font family 'Microsoft YaHei' not found.\n",
            "findfont: Font family 'Microsoft YaHei' not found.\n",
            "/content/BTP/baselines.py:217: UserWarning: Glyph 20132 (\\N{CJK UNIFIED IDEOGRAPH-4EA4}) missing from current font.\n",
            "  plt.savefig('./exchange/figure/ha_prediction' + '/' + exchange + '_ha.png')\n",
            "/content/BTP/baselines.py:217: UserWarning: Glyph 26131 (\\N{CJK UNIFIED IDEOGRAPH-6613}) missing from current font.\n",
            "  plt.savefig('./exchange/figure/ha_prediction' + '/' + exchange + '_ha.png')\n",
            "/content/BTP/baselines.py:217: UserWarning: Glyph 37327 (\\N{CJK UNIFIED IDEOGRAPH-91CF}) missing from current font.\n",
            "  plt.savefig('./exchange/figure/ha_prediction' + '/' + exchange + '_ha.png')\n",
            "/content/BTP/baselines.py:217: UserWarning: Glyph 65288 (\\N{FULLWIDTH LEFT PARENTHESIS}) missing from current font.\n",
            "  plt.savefig('./exchange/figure/ha_prediction' + '/' + exchange + '_ha.png')\n",
            "/content/BTP/baselines.py:217: UserWarning: Glyph 32654 (\\N{CJK UNIFIED IDEOGRAPH-7F8E}) missing from current font.\n",
            "  plt.savefig('./exchange/figure/ha_prediction' + '/' + exchange + '_ha.png')\n",
            "/content/BTP/baselines.py:217: UserWarning: Glyph 20803 (\\N{CJK UNIFIED IDEOGRAPH-5143}) missing from current font.\n",
            "  plt.savefig('./exchange/figure/ha_prediction' + '/' + exchange + '_ha.png')\n",
            "/content/BTP/baselines.py:217: UserWarning: Glyph 65289 (\\N{FULLWIDTH RIGHT PARENTHESIS}) missing from current font.\n",
            "  plt.savefig('./exchange/figure/ha_prediction' + '/' + exchange + '_ha.png')\n",
            "findfont: Font family 'Microsoft YaHei' not found.\n",
            "/content/BTP/baselines.py:217: UserWarning: Glyph 26102 (\\N{CJK UNIFIED IDEOGRAPH-65F6}) missing from current font.\n",
            "  plt.savefig('./exchange/figure/ha_prediction' + '/' + exchange + '_ha.png')\n",
            "/content/BTP/baselines.py:217: UserWarning: Glyph 38388 (\\N{CJK UNIFIED IDEOGRAPH-95F4}) missing from current font.\n",
            "  plt.savefig('./exchange/figure/ha_prediction' + '/' + exchange + '_ha.png')\n",
            "findfont: Font family 'Microsoft YaHei' not found.\n",
            "findfont: Font family 'Microsoft YaHei' not found.\n",
            "findfont: Font family 'Microsoft YaHei' not found.\n",
            "findfont: Font family 'Microsoft YaHei' not found.\n",
            "Figure(1000x400)\n"
          ]
        }
      ]
    },
    {
      "cell_type": "code",
      "source": [
        "!git add .\n",
        "!git commit -m \"from collab\"\n",
        "!git push"
      ],
      "metadata": {
        "colab": {
          "base_uri": "https://localhost:8080/"
        },
        "id": "VxEvEdHqvnWU",
        "outputId": "b476643e-97f5-466d-9849-03a5cd81efad"
      },
      "execution_count": 10,
      "outputs": [
        {
          "output_type": "stream",
          "name": "stdout",
          "text": [
            "[main da13ebd] from collab\n",
            " 5 files changed, 0 insertions(+), 0 deletions(-)\n",
            " rewrite exchange/figure/ha_prediction/binance_ha.png (98%)\n",
            " rewrite exchange/figure/ha_prediction/coinbase_ha.png (99%)\n",
            " rewrite exchange/figure/ha_prediction/huobi_ha.png (99%)\n",
            " rewrite exchange/figure/ha_prediction/kraken_ha.png (99%)\n",
            " rewrite exchange/figure/ha_prediction/kucoin_ha.png (98%)\n",
            "fatal: could not read Username for 'https://github.com': No such device or address\n"
          ]
        }
      ]
    },
    {
      "cell_type": "code",
      "source": [
        "!git config --global user.email \"rprakhar007@gmail.com\"\n",
        "!git config --global user.name \"PrakharRanjan2909\""
      ],
      "metadata": {
        "id": "icoG4v7Xvx3z"
      },
      "execution_count": 9,
      "outputs": []
    },
    {
      "cell_type": "code",
      "source": [
        "!pip install pmdarima"
      ],
      "metadata": {
        "id": "NB2CCxtdubYV"
      },
      "execution_count": null,
      "outputs": []
    },
    {
      "cell_type": "code",
      "source": [],
      "metadata": {
        "id": "cu_uO9ISuhCU"
      },
      "execution_count": null,
      "outputs": []
    }
  ]
}